{
 "cells": [
  {
   "cell_type": "markdown",
   "source": [
    "# Beleg 2: Bilddateien, Bilddarstellung und Bilddiskretisierung\n",
    "\n",
    "**Name:**Jonas Wonneberger\n",
    "<br>\n",
    "**Matrikelnr.:**s0582006\n",
    "\n",
    "## Bearbeitungszeitraum\n",
    "**Bearbeitungsbeginn:** Mi, 17.11.2022\n",
    "<br>\n",
    "**Abgabe (in der Übung zu zeigen bis spätestens):** Mi, 05.01.2023\n",
    "\n",
    "\n",
    "**Hinweise zum Beleg:** \n",
    "- Die erfolgreiche Bearbeitung des Belegs ist zwingende Voraussetzung zur Teilnahme an der Klausur. \n",
    "- Sofern nicht anders angegeben können die Operationen mit einer Library Ihrer Wahl durchgeführt werden.\n",
    "\n",
    "\n",
    "### Segmentierung von Mitosen im PHH3\n",
    "\n",
    "In dieser Aufgabe werden Sie sich mit der Segmentierung von Mitosen auseinandersetzen. Mitosen sind Zellen, die sich gerade in Teilung befinden. Zwar ist dies ist ein natürlicher Prozess, jedoch findet er so selten statt, dass es statistisch unwahrscheinlich ist, eine Mitose in einem histologischen Schnitt zu finden. Innerhalb von Tumorgewebe jedoch ist die Proliferationsrate (sprich die Rate, mit der sich das Gewebe durch Zellteilung vermehrt) deutlich höher. Für diverse Tumorentitäten spielt die Erfassung dieser Proliferationsrate, etwa durch Auszählung von Mitosen, eine wesentliche Rolle in der Bewertung der Malignität.\n",
    "\n",
    "### Viel Erfolg!"
   ],
   "metadata": {
    "collapsed": false
   }
  },
  {
   "cell_type": "markdown",
   "source": [
    "**Aufgabe 1.1**: Schauen Sie sich zunächst die Bilder im Ordner `mitosis_set` an. Hierbei handelt es sich um invasives Mammakarzinom, welches mit der IHC-Färbung für das Protein Phosphohistone-H3 (PHH3) gefärbt wurde. Der braune Ton der Mitosen entsteht durch Diaminobenzidine (DAB) welches an die entsprechenden Antikörper für das PHH3 gebunden ist. Die blaue Färbung der nicht-mitotischen Zellkerne entsteht durch Haematoxylin. \n",
    "\n",
    "Die Dateinamen der Bilder enthalten jeweils zwei Informationen: Zum einen die ID des Bilders (eine fortlaufende Nummer beginnend mit 01) sowie die Anzahl der jeweils im Bild enthaltenen Mitosen. Die Angaben sind durch einen Underscore (\\_) getrennt. Lesen Sie nun alle Bilder ein. Überlegen Sie sich eine passende Datenstruktur zur Speicherung der jeweiligen Anzahl an Mitosen."
   ],
   "metadata": {
    "collapsed": false
   }
  },
  {
   "cell_type": "code",
   "execution_count": 23,
   "outputs": [
    {
     "name": "stdout",
     "output_type": "stream",
     "text": [
      "[{'data_name': '01_0.png', 'ID': '01', 'mitoses_count': '0'}, {'data_name': '02_2.png', 'ID': '02', 'mitoses_count': '2'}, {'data_name': '03_1.png', 'ID': '03', 'mitoses_count': '1'}, {'data_name': '04_3.png', 'ID': '04', 'mitoses_count': '3'}, {'data_name': '05_0.png', 'ID': '05', 'mitoses_count': '0'}, {'data_name': '06_3.png', 'ID': '06', 'mitoses_count': '3'}, {'data_name': '07_2.png', 'ID': '07', 'mitoses_count': '2'}, {'data_name': '08_1.png', 'ID': '08', 'mitoses_count': '1'}, {'data_name': '09_2.png', 'ID': '09', 'mitoses_count': '2'}, {'data_name': '10_1.png', 'ID': '10', 'mitoses_count': '1'}, {'data_name': '11_0.png', 'ID': '11', 'mitoses_count': '0'}, {'data_name': '12_3.png', 'ID': '12', 'mitoses_count': '3'}, {'data_name': '13_1.png', 'ID': '13', 'mitoses_count': '1'}, {'data_name': '14_2.png', 'ID': '14', 'mitoses_count': '2'}, {'data_name': '15_0.png', 'ID': '15', 'mitoses_count': '0'}, {'data_name': '16_1.png', 'ID': '16', 'mitoses_count': '1'}, {'data_name': '17_0.png', 'ID': '17', 'mitoses_count': '0'}, {'data_name': '18_3.png', 'ID': '18', 'mitoses_count': '3'}, {'data_name': '19_2.png', 'ID': '19', 'mitoses_count': '2'}, {'data_name': '20_5.png', 'ID': '20', 'mitoses_count': '5'}]\n"
     ]
    }
   ],
   "source": [
    "import os\n",
    "from operator import itemgetter #to sort a dictionary in an array\n",
    "\n",
    "res = []\n",
    "files = os.listdir('mitosis_set')\n",
    "for i in range(0,len(files)):\n",
    "    dictionarieName = files[i]\n",
    "    ID = dictionarieName.split(\"_\")\n",
    "    mitoses_count = ID[1].split(\".png\")\n",
    "    dictionarieName = {\"data_name\" : dictionarieName, \"ID\" : ID[0], \"mitoses_count\": mitoses_count[0]}\n",
    "    res.append(dictionarieName)\n",
    "    res = sorted(res, key=itemgetter('ID'))\n"
   ],
   "metadata": {
    "collapsed": false
   }
  },
  {
   "cell_type": "markdown",
   "id": "e86fb605",
   "metadata": {},
   "source": [
    "**Aufgabe 1.2**: Entwickeln Sie ein Verfahren zur Segmentierung der Mitosen. Als Teilschritte sollen sowohl die Segmentierungsmasken als auch die im Originalbild hevorgehobenen Mitosen (entweder, indem das Bild anhand der Maske zugeschnitten oder indem die Mitosen mit einem Polygon markiert wurden) ausgegeben werden. Am Ende soll für jedes Bild die Anzahl an gefundenen Mitosen ausgegeben werden. Beginnen Sie erst mit Aufgabe 1.3, wenn ihr Algorithmus für jedes Bild die korrekte Anzahl an Mitosen findet. "
   ]
  },
  {
   "cell_type": "code",
   "execution_count": 6,
   "id": "54005c53",
   "metadata": {},
   "outputs": [
    {
     "data": {
      "text/plain": "<matplotlib.image.AxesImage at 0x1c719fe2370>"
     },
     "execution_count": 6,
     "metadata": {},
     "output_type": "execute_result"
    },
    {
     "data": {
      "text/plain": "<Figure size 800x960 with 1 Axes>",
      "image/png": "[encoded data removed]"
     },
     "metadata": {
      "needs_background": "light"
     },
     "output_type": "display_data"
    }
   ],
   "source": [
    "# 1.2\n",
    "import cv2\n",
    "import numpy as np\n",
    "from matplotlib import pyplot as plt\n",
    "\n",
    "\n",
    "original = cv2.imread('mitosis_set/04_3.png')\n",
    "\n",
    "hsv = cv2.cvtColor(original, cv2.COLOR_BGR2HSV)\n",
    "\n",
    "lower_colors = np.array([10, 60, 20])\n",
    "upper_colors = np.array([20, 255, 255])\n",
    "\n",
    "mask =  cv2.inRange(hsv, lower_colors, upper_colors)\n",
    "res = cv2.bitwise_and(original, original, mask=mask)\n",
    "\n",
    "plt.figure(num=None, figsize=(10, 12), dpi=80)\n",
    "plt.imshow(mask)"
   ]
  },
  {
   "cell_type": "markdown",
   "id": "dd62b675",
   "metadata": {},
   "source": [
    "**Aufgabe 1.3**: Lesen Sie nun die Dateien aus dem Ordner `mitosis_test_set` ein, indem Sie erneut ihre zuvor definierte Datenstruktur verwenden. Wenden Sie ihr Verfahren einmalig auf diese Daten an (einmalig in dem Sinne, dass keine weitere Optimierung des Algorithmus durchgeführt wird) und geben Sie für jedes Bild aus, wieviele Mitosen ihre Implementierung gefunden hat und wieviele laut Dateinamen zu finden gewesen wären. Schließlich geben Sie noch die Genaugikeit ihrer Lösung für diesen Datensatz an, in dem Sie die Gesamtzahl der gefundenen Mitosen durch die Gesamtzahl der tatsächlichen Mitosen teilen."
   ]
  },
  {
   "cell_type": "code",
   "execution_count": 12,
   "outputs": [
    {
     "data": {
      "text/plain": "<matplotlib.image.AxesImage at 0x1c71a5108b0>"
     },
     "execution_count": 12,
     "metadata": {},
     "output_type": "execute_result"
    },
    {
     "data": {
      "text/plain": "<Figure size 800x960 with 1 Axes>",
      "image/png": "[encoded data removed]"
     },
     "metadata": {
      "needs_background": "light"
     },
     "output_type": "display_data"
    }
   ],
   "source": [
    "#1.3\n",
    "import cv2\n",
    "import numpy as np\n",
    "\n",
    "img = cv2.imread('mitosis_set/04_3.png')\n",
    "hsv_img = cv2.cvtColor(img, cv2.COLOR_BGR2HSV)\n",
    "bound_lower = np.array([10, 60, 20])\n",
    "bound_upper = np.array([20, 255, 255])\n",
    "\n",
    "mask_green = cv2.inRange(hsv_img, bound_lower, bound_upper)\n",
    "kernel = np.ones((7,7),np.uint8)\n",
    "\n",
    "mask_green = cv2.morphologyEx(mask_green, cv2.MORPH_CLOSE, kernel)\n",
    "mask_green = cv2.morphologyEx(mask_green, cv2.MORPH_OPEN, kernel)\n",
    "\n",
    "seg_img = cv2.bitwise_and(img, img, mask=mask_green)\n",
    "contours, hier = cv2.findContours(mask_green.copy(), cv2.RETR_EXTERNAL, cv2.CHAIN_APPROX_SIMPLE)\n",
    "output = cv2.drawContours(seg_img, contours, -1, (0, 0, 255), 3)\n",
    "\n",
    "\n",
    "plt.figure(num=None, figsize=(10, 12), dpi=80)\n",
    "plt.imshow(seg_img)\n"
   ],
   "metadata": {
    "collapsed": false
   }
  },
  {
   "cell_type": "code",
   "execution_count": 13,
   "outputs": [
    {
     "ename": "ModuleNotFoundError",
     "evalue": "No module named 'cvlib'",
     "output_type": "error",
     "traceback": [
      "\u001B[1;31m---------------------------------------------------------------------------\u001B[0m",
      "\u001B[1;31mModuleNotFoundError\u001B[0m                       Traceback (most recent call last)",
      "Input \u001B[1;32mIn [13]\u001B[0m, in \u001B[0;36m<cell line: 4>\u001B[1;34m()\u001B[0m\n\u001B[0;32m      2\u001B[0m \u001B[38;5;28;01mimport\u001B[39;00m \u001B[38;5;21;01mnumpy\u001B[39;00m \u001B[38;5;28;01mas\u001B[39;00m \u001B[38;5;21;01mnp\u001B[39;00m\n\u001B[0;32m      3\u001B[0m \u001B[38;5;28;01mimport\u001B[39;00m \u001B[38;5;21;01mmatplotlib\u001B[39;00m\u001B[38;5;21;01m.\u001B[39;00m\u001B[38;5;21;01mpyplot\u001B[39;00m \u001B[38;5;28;01mas\u001B[39;00m \u001B[38;5;21;01mplt\u001B[39;00m\n\u001B[1;32m----> 4\u001B[0m \u001B[38;5;28;01mimport\u001B[39;00m \u001B[38;5;21;01mcvlib\u001B[39;00m \u001B[38;5;28;01mas\u001B[39;00m \u001B[38;5;21;01mcv\u001B[39;00m\n\u001B[0;32m      5\u001B[0m \u001B[38;5;28;01mfrom\u001B[39;00m \u001B[38;5;21;01mcvlib\u001B[39;00m\u001B[38;5;21;01m.\u001B[39;00m\u001B[38;5;21;01mobject_detection\u001B[39;00m \u001B[38;5;28;01mimport\u001B[39;00m draw_bbox\n\u001B[0;32m      6\u001B[0m \u001B[38;5;28;01mfrom\u001B[39;00m \u001B[38;5;21;01mnumpy\u001B[39;00m\u001B[38;5;21;01m.\u001B[39;00m\u001B[38;5;21;01mlib\u001B[39;00m\u001B[38;5;21;01m.\u001B[39;00m\u001B[38;5;21;01mpolynomial\u001B[39;00m \u001B[38;5;28;01mimport\u001B[39;00m poly\n",
      "\u001B[1;31mModuleNotFoundError\u001B[0m: No module named 'cvlib'"
     ]
    }
   ],
   "source": [
    "import cv2\n",
    "import numpy as np\n",
    "import matplotlib.pyplot as plt\n",
    "import cvlib as cv\n",
    "from cvlib.object_detection import draw_bbox\n",
    "from numpy.lib.polynomial import poly\n",
    "\n",
    "img = mask\n",
    "img1 = cv2.cvtColor(img,cv2.COLOR_BGR2RGB)\n",
    "plt.figure(figsize=(10,10))\n",
    "plt.axis('off')\n",
    "plt.imshow(img1)\n",
    "plt.show()"
   ],
   "metadata": {
    "collapsed": false
   }
  },
  {
   "cell_type": "code",
   "execution_count": null,
   "outputs": [],
   "source": [
    "box, label, count = cv.detect_common_objects(img)\n",
    "output = draw_bbox(img, box, label, count)"
   ],
   "metadata": {
    "collapsed": false
   }
  },
  {
   "cell_type": "code",
   "execution_count": null,
   "outputs": [],
   "source": [
    "output = cv2.cvtColor(output,cv2.COLOR_BGR2RGB)\n",
    "plt.figure(figsize=(10,10))\n",
    "plt.axis('off')\n",
    "plt.imshow(output)\n",
    "plt.show()"
   ],
   "metadata": {
    "collapsed": false
   }
  },
  {
   "cell_type": "code",
   "execution_count": null,
   "outputs": [],
   "source": [
    "\n",
    "print(\"Number of objects in this image are \" +str(len(label)))"
   ],
   "metadata": {
    "collapsed": false
   }
  }
 ],
 "metadata": {
  "kernelspec": {
   "display_name": "Python 3 (ipykernel)",
   "language": "python",
   "name": "python3"
  },
  "language_info": {
   "codemirror_mode": {
    "name": "ipython",
    "version": 3
   },
   "file_extension": ".py",
   "mimetype": "text/x-python",
   "name": "python",
   "nbconvert_exporter": "python",
   "pygments_lexer": "ipython3",
   "version": "3.9.13"
  }
 },
 "nbformat": 4,
 "nbformat_minor": 5
}
